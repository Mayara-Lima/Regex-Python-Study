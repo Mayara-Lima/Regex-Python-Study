{
 "cells": [
  {
   "cell_type": "markdown",
   "id": "32b15867-57a0-474e-a201-193bb036808f",
   "metadata": {},
   "source": [
    "# Expressões Regulares em Python... Exercícios\n",
    "### Para que os exercícios em que tem de encontrar a expressão regular possa ser considerado completo/correto, deve apresentar 3 ou mais exemplos 'positivos' e 3 ou mais exemplos 'negativos'."
   ]
  },
  {
   "cell_type": "code",
   "execution_count": 1,
   "id": "e6f7a750-6591-4209-8991-53461c0d3aa7",
   "metadata": {},
   "outputs": [],
   "source": [
    "import re"
   ]
  },
  {
   "cell_type": "markdown",
   "id": "f3d442a4-f5d8-40ff-afee-a9ca90e124c9",
   "metadata": {},
   "source": [
    "#### 1. Escreva uma expressão regular que valide strings (sequências de caracteres) que comecem com a letra 'a' seguido de 3 letras 'b'. (Apresentar 3 exemplos positivos e 3 exemplos negativos)"
   ]
  },
  {
   "cell_type": "code",
   "execution_count": 109,
   "id": "98220dd6-d0b9-401c-886f-db8ab41cd75d",
   "metadata": {},
   "outputs": [
    {
     "name": "stdout",
     "output_type": "stream",
     "text": [
      "<re.Match object; span=(4, 8), match='abbb'>\n",
      "<re.Match object; span=(0, 4), match='abbb'>\n",
      "<re.Match object; span=(0, 4), match='abbb'>\n",
      "None\n",
      "None\n",
      "None\n"
     ]
    }
   ],
   "source": [
    "exp = 'ab{3}'\n",
    "  \n",
    "s1 = \"8888abbb\"\n",
    "s2 = \"abbbxxdf30\"\n",
    "s3 = \"abbbxpto\"\n",
    "s4 = \"aaaaaedfhgdgdh\"\n",
    "s5 = \"abaaaxpto\"\n",
    "s6 = \"wteab987\"\n",
    " \n",
    "print(re.search(exp, s1))\n",
    "print(re.search(exp, s2))\n",
    "print(re.search(exp, s3))\n",
    "print(re.search(exp, s4))\n",
    "print(re.search(exp, s5))\n",
    "print(re.search(exp, s6))"
   ]
  },
  {
   "cell_type": "markdown",
   "id": "a4d3fefd-bf8b-48c0-8e84-b91320417b98",
   "metadata": {},
   "source": [
    "#### 2. Escreva uma expressão regular que valide strings que comecem com 3 letras 'y' seguido de uma ou mais letras 'z'. (Apresentar 3 exemplos positivos e 3 exemplos negativos)"
   ]
  },
  {
   "cell_type": "code",
   "execution_count": 110,
   "id": "fc4ad970-8eb1-483d-b28b-013a74923271",
   "metadata": {},
   "outputs": [
    {
     "name": "stdout",
     "output_type": "stream",
     "text": [
      "<re.Match object; span=(0, 5), match='yyyzz'>\n",
      "<re.Match object; span=(4, 8), match='yyyz'>\n",
      "<re.Match object; span=(4, 10), match='yyyzzz'>\n",
      "None\n",
      "None\n",
      "None\n"
     ]
    }
   ],
   "source": [
    "exp2 = 'y{3}z+'\n",
    "  \n",
    "s7 = \"yyyzzxpto\"\n",
    "s8 = \"xptoyyyz1213\"\n",
    "s9 = \"xptoyyyzzzxpto\"\n",
    "s10 = \"yzxpto\"\n",
    "s11 = \"yzzpto\"\n",
    "s12 = \"yyyxpto\"\n",
    " \n",
    "print(re.search(exp2, s7))\n",
    "print(re.search(exp2, s8))\n",
    "print(re.search(exp2, s9))\n",
    "print(re.search(exp2, s10))\n",
    "print(re.search(exp2, s11))\n",
    "print(re.search(exp2, s12))"
   ]
  },
  {
   "cell_type": "markdown",
   "id": "333cea0f-0821-4331-9dc7-937bae992eb1",
   "metadata": {},
   "source": [
    "#### 3. Que expressão regular valida strings COMPLETAS (e não apenas qualquer sub-string) que tenham apenas caracteres alfabéticos e o caracter '_' (undercore); a string a validar não pode iniciar nem terminar com o caracter '_' (underscore)?"
   ]
  },
  {
   "cell_type": "code",
   "execution_count": 111,
   "id": "01e19e5c-601a-413c-aa6d-579b6cc05453",
   "metadata": {},
   "outputs": [
    {
     "name": "stdout",
     "output_type": "stream",
     "text": [
      "<re.Match object; span=(0, 7), match='abc_def'>\n",
      "<re.Match object; span=(0, 11), match='hello_world'>\n",
      "<re.Match object; span=(0, 6), match='single'>\n",
      "None\n",
      "None\n",
      "None\n",
      "<re.Match object; span=(0, 4), match='xpto'>\n"
     ]
    }
   ],
   "source": [
    "exp3 = '^[a-z]+(?:_[a-z]+)*$'\n",
    "\n",
    "s13 = \"abc_def\"\n",
    "s14 = \"hello_world\"\n",
    "s15 = \"single\"\n",
    "s16 = \"_starts_and_ends_with_underscore_\"\n",
    "s17 = \"123_has_numbers\"\n",
    "s18 = \"_starts_with_underscore\"\n",
    "s19 = \"xpto\"\n",
    "\n",
    "print(re.search(exp3, s13))\n",
    "print(re.search(exp3, s14))\n",
    "print(re.search(exp3, s15))\n",
    "print(re.search(exp3, s16))\n",
    "print(re.search(exp3, s17))\n",
    "print(re.search(exp3, s18))\n",
    "print(re.search(exp3, s19))"
   ]
  },
  {
   "cell_type": "markdown",
   "id": "b61cae3c-e35d-4a79-b6cd-ebc16355e9a1",
   "metadata": {},
   "source": [
    "#### 4. Que expressão regular valida quaisquer strings COMPLETAS que tenham de iniciar e terminar com o caracter 'z'?"
   ]
  },
  {
   "cell_type": "code",
   "execution_count": 112,
   "id": "897e4ea9-48e7-48c5-ab38-a6e706c4f05f",
   "metadata": {},
   "outputs": [
    {
     "name": "stdout",
     "output_type": "stream",
     "text": [
      "<re.Match object; span=(0, 5), match='zabcz'>\n",
      "<re.Match object; span=(0, 8), match='zzzzzzzz'>\n",
      "<re.Match object; span=(0, 4), match='zzaz'>\n",
      "None\n",
      "None\n",
      "None\n"
     ]
    }
   ],
   "source": [
    "exp4 = '^z.*z$'\n",
    "\n",
    "s20 = \"zabcz\"\n",
    "s21 = \"zzzzzzzz\"\n",
    "s22 = \"zzaz\"\n",
    "s23 = \"abc\"\n",
    "s24 = \"z123cbaxpto\"\n",
    "s25 = \"xptoz\"\n",
    "\n",
    "print(re.search(exp4, s20))\n",
    "print(re.search(exp4, s21))\n",
    "print(re.search(exp4, s22))\n",
    "print(re.search(exp4, s23))\n",
    "print(re.search(exp4, s24))\n",
    "print(re.search(exp4, s25))"
   ]
  },
  {
   "cell_type": "markdown",
   "id": "e30d25bf-aaf8-4c8b-a5f8-4397fdde42ee",
   "metadata": {},
   "source": [
    "#### 5. Escreva uma expressão regular que identifique strings (não necessariamente COMPLETAS) que tenham o caracter 'a' seguido de um número indeterminado de caracteres numéricos, e de 2 ou 3 caracteres de entre 'x', 'y' e 'z', e de 1 ou mais caracteres alfabéticos.\n",
    "Deve usar o conhecimento dado nas aulas... Por ex., npode usar **{n}** mas não deve usar **{m,n}**\n",
    "Tente esgotar ao máximo o número de exemplos para demonstrar validações 'positivas' e 'negativas'."
   ]
  },
  {
   "cell_type": "code",
   "execution_count": 113,
   "id": "99b85a35-2e4f-4948-ab6d-3f53d070d328",
   "metadata": {},
   "outputs": [
    {
     "name": "stdout",
     "output_type": "stream",
     "text": [
      "None\n",
      "None\n",
      "None\n",
      "<re.Match object; span=(0, 6), match='axyzzz'>\n",
      "<re.Match object; span=(0, 7), match='a22xzab'>\n",
      "<re.Match object; span=(0, 5), match='axxaa'>\n"
     ]
    }
   ],
   "source": [
    "exp5 = '^a\\d*[xyz]{2,3}[a-z]+$'\n",
    " \n",
    "s26 = 'a11xxaa22'\n",
    "s27 = 'a1xycc22'\n",
    "s28 = '00a1ya'\n",
    "s29 = 'axyzzz'\n",
    "s30 = 'a22xzab'\n",
    "s31 = 'axxaa'\n",
    "\n",
    "print(re.search(exp5, s26))\n",
    "print(re.search(exp5, s27))\n",
    "print(re.search(exp5, s28))\n",
    "print(re.search(exp5, s29))\n",
    "print(re.search(exp5, s30))\n",
    "print(re.search(exp5, s31))"
   ]
  },
  {
   "cell_type": "markdown",
   "id": "f6c538ce-b4f4-4163-b57c-b794179b2870",
   "metadata": {},
   "source": [
    "#### 6. Imagine que recebia um ficheiro com múltiplas strings de valores numéricos. Que regra escreveria para poder ignorar todos zeros (caracter '0') à esquerda de cada um dos números?"
   ]
  },
  {
   "cell_type": "code",
   "execution_count": 13,
   "id": "b0a5dd27-5430-4f50-a56f-c0da79057962",
   "metadata": {},
   "outputs": [
    {
     "name": "stdout",
     "output_type": "stream",
     "text": [
      "<re.Match object; span=(2, 5), match='123'>\n",
      "<re.Match object; span=(4, 7), match='456'>\n",
      "<re.Match object; span=(1, 4), match='789'>\n",
      "None\n",
      "None\n",
      "None\n"
     ]
    }
   ],
   "source": [
    "exp6 = '[1-9]{1}[0-9]*'\n",
    "\n",
    "s32 = \"00123\"\n",
    "s33 = \"0000456\"\n",
    "s34 = \"0789\"\n",
    "s35 = \"00000\"\n",
    "s36 = \"abc\"\n",
    "s37 = \"axs\"\n",
    "\n",
    "print(re.search(exp6, s32))\n",
    "print(re.search(exp6, s33))\n",
    "print(re.search(exp6, s34))\n",
    "print(re.search(exp6, s35))\n",
    "print(re.search(exp6, s36))\n",
    "print(re.search(exp6, s37))\n"
   ]
  },
  {
   "cell_type": "markdown",
   "id": "37fdf7e6-c7b2-4427-90cc-936d3dcb26c1",
   "metadata": {},
   "source": [
    "#### 7. Que código Python escreveria para tentar isolar a sub-string 'xpto' de uma qualquer string original?"
   ]
  },
  {
   "cell_type": "code",
   "execution_count": 24,
   "id": "ea453138-d088-4877-b35a-e2526e03209b",
   "metadata": {},
   "outputs": [
    {
     "name": "stdout",
     "output_type": "stream",
     "text": [
      "<re.Match object; span=(2, 8), match='3xpto4'>\n",
      "None\n",
      "<re.Match object; span=(2, 8), match='0xpto0'>\n",
      "None\n",
      "None\n",
      "<re.Match object; span=(2, 8), match='5xpto6'>\n"
     ]
    }
   ],
   "source": [
    "exp7 = '\\dxpto\\d'\n",
    "\n",
    "s01 = \"123xpto456\"\n",
    "s02 = \"abcxpto4\"\n",
    "s03 = \"000xpto000\"\n",
    "s04 = \"xpto12345\"\n",
    "s05 = \"xpto67890xpto\"\n",
    "s06 = \"345xpto67890\"\n",
    "\n",
    "print(re.search(exp7, s01))\n",
    "print(re.search(exp7, s02))\n",
    "print(re.search(exp7, s03))\n",
    "print(re.search(exp7, s04))\n",
    "print(re.search(exp7, s05))\n",
    "print(re.search(exp7, s06))"
   ]
  },
  {
   "cell_type": "markdown",
   "id": "cc1b32ec-5924-4463-ad27-788f3158908a",
   "metadata": {},
   "source": [
    "#### 8. Investigue a utilização do meta-caracter '|' (pipe)... Que expressão regular usaria para identificar/validar strings COMPLETAS que iniciem pela sequência 'abc' ou 'xyz'?"
   ]
  },
  {
   "cell_type": "markdown",
   "id": "ba49db46-8f1a-473f-b13d-6af93234c922",
   "metadata": {},
   "source": [
    "Contextualizando: O meta-caractere | (pipe) é utilizado como um operador lógico OR (ou) em expressões regulares. Ele permite que você especifique várias alternativas, indicando que a correspondência deve ocorrer se qualquer uma das alternativas for encontrada."
   ]
  },
  {
   "cell_type": "code",
   "execution_count": 32,
   "id": "8f826fb4-cdd0-4677-bf27-24e2468bb6d2",
   "metadata": {},
   "outputs": [
    {
     "name": "stdout",
     "output_type": "stream",
     "text": [
      "None\n",
      "None\n",
      "None\n",
      "<re.Match object; span=(0, 3), match='abc'>\n",
      "<re.Match object; span=(0, 3), match='xyz'>\n"
     ]
    }
   ],
   "source": [
    "exp8 = '^(abc|xyz)$'\n",
    "\n",
    "s38 = \"abc123\"\n",
    "s39 = \"xyz987\"\n",
    "s40 = \"abcdef\"\n",
    "s41 = \"abc\"\n",
    "s42 = \"xyz\"\n",
    "\n",
    "print(re.search(exp8, s38))\n",
    "print(re.search(exp8, s39))\n",
    "print(re.search(exp8, s40))\n",
    "print(re.search(exp8, s41))\n",
    "print(re.search(exp8, s42))"
   ]
  },
  {
   "cell_type": "markdown",
   "id": "e8bc3bc3-5947-46f9-bff3-e461d488150a",
   "metadata": {},
   "source": [
    "#### 9. Use uma expressão regular para identificar números de telefone válidos para Portugal, considerando que o indicativo (351) pode, ou não, estar presente ao início da sequência. (Apresentar 3 exemplos positivos e 3 exemplos negativos)"
   ]
  },
  {
   "cell_type": "code",
   "execution_count": 12,
   "id": "e24961c3-16de-4957-a3a4-d950ce35fc2c",
   "metadata": {},
   "outputs": [
    {
     "name": "stdout",
     "output_type": "stream",
     "text": [
      "<re.Match object; span=(0, 12), match='351912345678'>\n",
      "<re.Match object; span=(0, 9), match='912345678'>\n",
      "None\n",
      "None\n",
      "None\n",
      "None\n"
     ]
    }
   ],
   "source": [
    "exp_telefone = '^((00|\\+)?351)?(91|92|93|96|21)[0-9]{7}$'\n",
    "#Os números de telefone em Portugal começam com 2 ou 9.\n",
    "\n",
    "telefone1 = \"351912345678\"\n",
    "telefone2 = \"912345678\"\n",
    "telefone3 = \"261234567\"\n",
    "telefone4 = \"12345678\"\n",
    "telefone5 = \"352912345678\"\n",
    "telefone6 = \"3519123456789\"\n",
    "\n",
    "print(re.search(exp_telefone, telefone1))\n",
    "print(re.search(exp_telefone, telefone2))\n",
    "print(re.search(exp_telefone, telefone3))\n",
    "print(re.search(exp_telefone, telefone4))\n",
    "print(re.search(exp_telefone, telefone5))\n",
    "print(re.search(exp_telefone, telefone6))"
   ]
  },
  {
   "cell_type": "markdown",
   "id": "abb89fa4-def4-4423-816c-fcd21d86e586",
   "metadata": {},
   "source": [
    "#### 10. Escreva uma função em Python que receba como argumento uma lista de strings; a função deverá devolver uma outra lista contendo apenas as strings da lista original que obedeçam à regra seguinte: INÍCIO c/ sequência de 3 ou mais letras 'a', seguido de 0 ou mais caracteres 'u', 'v' e 'w'.\n",
    "Deve usar o conhecimento dado nas aulas... Por ex., npode usar **{n}** mas não deve usar **{m,n}**\n",
    "Escreva o maior número de exemplos para chamar a sua função que demonstrem o seu funcionamento correto."
   ]
  },
  {
   "cell_type": "code",
   "execution_count": 118,
   "id": "b1e37dea-3e75-4769-89d2-b9832cfadcab",
   "metadata": {},
   "outputs": [
    {
     "name": "stdout",
     "output_type": "stream",
     "text": [
      "['aaa', 'aaauvw', 'aaavw']\n"
     ]
    }
   ],
   "source": [
    "def filtrar_strings(lista):\n",
    "    exp10 = '^a{3}[uvw]*'\n",
    "    return [s for s in lista if re.fullmatch(exp10, s)]\n",
    "    return [s for s in lista if re.match(regex, s)]\n",
    "\n",
    "lista_original = [\n",
    "    \"aaa\",\n",
    "    \"aaauvw\",\n",
    "    \"aaavw\",\n",
    "    \"aavw\",\n",
    "    \"aaabbb\",\n",
    "    \"abcuvw\",\n",
    "    \"aaauvwxyz\",\n",
    "    \"uvwaaa\",\n",
    "    \"uvw\"\n",
    "]\n",
    "\n",
    "strings_filtradas = filtrar_strings(lista_original)\n",
    "print(strings_filtradas)\n"
   ]
  }
 ],
 "metadata": {
  "kernelspec": {
   "display_name": "Python 3 (ipykernel)",
   "language": "python",
   "name": "python3"
  },
  "language_info": {
   "codemirror_mode": {
    "name": "ipython",
    "version": 3
   },
   "file_extension": ".py",
   "mimetype": "text/x-python",
   "name": "python",
   "nbconvert_exporter": "python",
   "pygments_lexer": "ipython3",
   "version": "3.11.0"
  }
 },
 "nbformat": 4,
 "nbformat_minor": 5
}
